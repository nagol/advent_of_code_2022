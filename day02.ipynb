{
 "cells": [
  {
   "cell_type": "markdown",
   "id": "06dcbab3-efbc-44b5-a96c-4367ab0df43a",
   "metadata": {},
   "source": [
    "# Advent of Code 2022 - Day 2 of 25\n",
    "\n",
    "## Problem 1:\n",
    "\n",
    "--- Day 2: Rock Paper Scissors ---\n",
    "\n",
    "The Elves begin to set up camp on the beach. To decide whose tent gets to be closest to the snack storage, a giant Rock Paper Scissors tournament is already in progress.\n",
    "\n",
    "Rock Paper Scissors is a game between two players. Each game contains many rounds; in each round, the players each simultaneously choose one of Rock, Paper, or Scissors using a hand shape. Then, a winner for that round is selected: Rock defeats Scissors, Scissors defeats Paper, and Paper defeats Rock. If both players choose the same shape, the round instead ends in a draw.\n",
    "\n",
    "Appreciative of your help yesterday, one Elf gives you an encrypted strategy guide (your puzzle input) that they say will be sure to help you win. \"The first column is what your opponent is going to play: A for Rock, B for Paper, and C for Scissors. The second column--\" Suddenly, the Elf is called away to help with someone's tent.\n",
    "\n",
    "The second column, you reason, must be what you should play in response: X for Rock, Y for Paper, and Z for Scissors. Winning every time would be suspicious, so the responses must have been carefully chosen.\n",
    "\n",
    "The winner of the whole tournament is the player with the highest score. Your total score is the sum of your scores for each round. The score for a single round is the score for the shape you selected (1 for Rock, 2 for Paper, and 3 for Scissors) plus the score for the outcome of the round (0 if you lost, 3 if the round was a draw, and 6 if you won).\n",
    "\n",
    "Since you can't be sure if the Elf is trying to help you or trick you, you should calculate the score you would get if you were to follow the strategy guide.\n",
    "\n",
    "For example, suppose you were given the following strategy guide:\n",
    "\n",
    "+ A Y\n",
    "+ B X\n",
    "+ C Z\n",
    "\n",
    "This strategy guide predicts and recommends the following:\n",
    "\n",
    "In the first round, your opponent will choose Rock (A), and you should choose Paper (Y). This ends in a win for you with a score of 8 (2 because you chose Paper + 6 because you won).\n",
    "In the second round, your opponent will choose Paper (B), and you should choose Rock (X). This ends in a loss for you with a score of 1 (1 + 0).\n",
    "The third round is a draw with both players choosing Scissors, giving you a score of 3 + 3 = 6.\n",
    "In this example, if you were to follow the strategy guide, you would get a total score of 15 (8 + 1 + 6).\n",
    "\n",
    "What would your total score be if everything goes exactly according to your strategy guide?\n",
    "\n"
   ]
  },
  {
   "cell_type": "code",
   "execution_count": 1,
   "id": "fe50ebd2-bd8d-43e3-8aa2-75e6c082d768",
   "metadata": {},
   "outputs": [],
   "source": [
    "import pandas as pd"
   ]
  },
  {
   "cell_type": "code",
   "execution_count": 1,
   "id": "edd99160-8cc6-425b-b525-2ff043ecddfe",
   "metadata": {},
   "outputs": [
    {
     "name": "stdout",
     "output_type": "stream",
     "text": [
      "['C Z', 'C Z', 'C Y', 'C Z', 'C Z', 'C Z', 'A X', 'A X', 'C X', 'C X', 'A Z', 'B X', 'A X', 'C Z', 'A Z', 'C Z', 'C Z', 'C Z', 'A Z']\n"
     ]
    }
   ],
   "source": [
    "with open('data/aoc_2022_day2.txt') as f:\n",
    "    lines = [line.replace('\\n', '') for line in f]\n",
    "    \n",
    "print(lines[:19])"
   ]
  },
  {
   "cell_type": "markdown",
   "id": "8d858a41-3fc8-41a8-ade3-02c1b84bc033",
   "metadata": {},
   "source": [
    "Score is calculated as:\n",
    "\n",
    "(A=Rock, P=Paper, S=Scissors) + (Loss, Tie, Win)\n",
    "\n",
    "(1,      2,       3)          + (0,     3,  6)"
   ]
  },
  {
   "cell_type": "code",
   "execution_count": 3,
   "id": "bb8491eb-c0d6-4eee-b890-708605a4ecc4",
   "metadata": {},
   "outputs": [],
   "source": [
    "# Turn each possibility into score for apply\n",
    "\n",
    "def determine_winner(p1, p2):\n",
    "    \n",
    "    \"\"\"\n",
    "    Inputs:\n",
    "    p1 - player 1 move: A, B, or C\n",
    "    p2 - player 2 move: X, Y, or Z\n",
    "    \n",
    "    Output:\n",
    "    tuple of player scores\n",
    "    \"\"\"\n",
    "    \n",
    "    # Rock ties Rock\n",
    "    # 1 + 3 vs 1 + 3\n",
    "    if p1 == 'A' and p2 == 'X':\n",
    "        return (4, 4)\n",
    "    \n",
    "    # Paper ties Paper\n",
    "    # 2 + 3 vs 2 + 3\n",
    "    elif p1 == 'B' and p2 == 'Y':\n",
    "        return (5, 5)\n",
    "    \n",
    "    # Scissors ties Scissors\n",
    "    # 3 + 3 vs 3 + 3\n",
    "    elif p1 == 'C' and p2 == 'Z':\n",
    "        return (6, 6)\n",
    "    \n",
    "    # Paper beats Rock\n",
    "    # 1 + 0 vs 2 + 6\n",
    "    elif p1 == 'A' and p2 == 'Y':\n",
    "        return (1, 8)\n",
    "    \n",
    "    # Paper beats Rock\n",
    "    # 2 + 6. vs  1 + 0\n",
    "    elif p1 == 'B' and p2 == 'X':\n",
    "        return (8, 1)\n",
    "    \n",
    "    # Scissors beats Paper\n",
    "    # 2 + 0 vs 3 + 6\n",
    "    elif p1 == 'B' and p2 == 'Z':\n",
    "        return (2, 9)\n",
    "    \n",
    "    # Scissors beats Paper\n",
    "    # 3 + 6 vs 2 + 0\n",
    "    elif p1 == 'C' and p2 == 'Y':\n",
    "        return (9, 2)\n",
    "    \n",
    "    # Rock beats Scissors\n",
    "    # 1 + 6 vs 3 + 0\n",
    "    elif p1 == 'A' and p2 == 'Z':\n",
    "        return (7, 3)\n",
    "    \n",
    "    # Rock beats Scissors\n",
    "    # 3 + 0 vs 1 + 6\n",
    "    elif p1 == 'C' and p2 == 'X':\n",
    "        return (3, 7)\n",
    "    \n",
    "    else:\n",
    "        return (-99, -99)\n",
    "    \n"
   ]
  },
  {
   "cell_type": "markdown",
   "id": "e9f59c8c-2d07-432f-bcca-404d3cf060fb",
   "metadata": {},
   "source": [
    "Using Base Python + List Comprehension"
   ]
  },
  {
   "cell_type": "code",
   "execution_count": 4,
   "id": "cba9efed-a3db-4f0a-b005-4f3571a5bbb5",
   "metadata": {},
   "outputs": [
    {
     "data": {
      "text/plain": [
       "13682"
      ]
     },
     "execution_count": 4,
     "metadata": {},
     "output_type": "execute_result"
    }
   ],
   "source": [
    "sum([result[1] for result in [determine_winner(line[0], line[2]) for line in lines]])"
   ]
  },
  {
   "cell_type": "markdown",
   "id": "8e403ef8-0b14-4569-88c9-f1097496efb0",
   "metadata": {},
   "source": [
    "## Problem 2\n",
    "\n",
    "--- Part Two ---\n",
    "\n",
    "The Elf finishes helping with the tent and sneaks back over to you. \"Anyway, the second column says how the round needs to end: X means you need to lose, Y means you need to end the round in a draw, and Z means you need to win. Good luck!\"\n",
    "\n",
    "The total score is still calculated in the same way, but now you need to figure out what shape to choose so the round ends as indicated. The example above now goes like this:\n",
    "\n",
    "In the first round, your opponent will choose Rock (A), and you need the round to end in a draw (Y), so you also choose Rock. This gives you a score of 1 + 3 = 4.\n",
    "In the second round, your opponent will choose Paper (B), and you choose Rock so you lose (X) with a score of 1 + 0 = 1.\n",
    "In the third round, you will defeat your opponent's Scissors with Rock for a score of 1 + 6 = 7.\n",
    "Now that you're correctly decrypting the ultra top secret strategy guide, you would get a total score of 12.\n",
    "\n",
    "Following the Elf's instructions for the second column, what would your total score be if everything goes exactly according to your strategy guide?\n",
    "\n"
   ]
  },
  {
   "cell_type": "markdown",
   "id": "0e06e847-4b7c-45b5-8fd8-5365b2d00a77",
   "metadata": {},
   "source": [
    "+ X = Lose\n",
    "+ Y = Tie\n",
    "+ Z = Win"
   ]
  },
  {
   "cell_type": "code",
   "execution_count": 5,
   "id": "7a6f5d85-5723-4976-9111-a0026dcc7912",
   "metadata": {},
   "outputs": [],
   "source": [
    "def determine_winner_pt2(p1, p2):\n",
    "    \n",
    "    # plays A (rock) and you are supposed to X (lose) then you need to play scissors -> score 7 vs 3\n",
    "    if p1 == 'A' and p2 == 'X':\n",
    "        return (7,3)\n",
    "    \n",
    "    # plays B (paper) and you are supposed to Y (tie) then you need to play paper -> score 5 vs 5\n",
    "    elif p1 == 'B' and p2 == 'Y':\n",
    "        return (5,5)\n",
    "    \n",
    "    # plays C (scissors) and you are supposed to Z (win) then you need to play rock -> score 3 vs 7\n",
    "    elif p1 == 'C' and p2 == 'Z':\n",
    "        return (3,7)\n",
    "    \n",
    "    # plays A (rock) and you are supposed to Y (tie) then you need to play rock -> score 4 vs 4\n",
    "    elif p1 == 'A' and p2 == 'Y':\n",
    "        return (4,4)\n",
    "    \n",
    "    # plays B (paper) and you are supposed to X (lose) then you need to play rock -> score 8 vs 1\n",
    "    elif p1 == 'B' and p2 == 'X':\n",
    "        return (8, 1)\n",
    "    \n",
    "    # plays B (paper) and you are supposed to Z (win) then you need to play scissors -> score 2 vs 9\n",
    "    elif p1 == 'B' and p2 == 'Z':\n",
    "        return (2, 9)\n",
    "    \n",
    "    # plays C (scissors) and you are supposed to Y (tie) then you need to play scissors -> score 6 vs 6\n",
    "    elif p1 == 'C' and p2 == 'Y':\n",
    "        return (6,6)\n",
    "    \n",
    "    # plays A (rock) and you are supposed to Z (win) then you need to play paper -> score 1 vs 8\n",
    "    elif p1 == 'A' and p2 == 'Z':\n",
    "        return (1,8)\n",
    "    \n",
    "    # plays C (scissors) and you are supposed to X (lose) then you need to play paper -> score 9 vs 2\n",
    "    elif p1 == 'C' and p2 == 'X':\n",
    "        return (9,2)\n",
    "    \n",
    "    else:\n",
    "        return (-99, -99)"
   ]
  },
  {
   "cell_type": "markdown",
   "id": "f9f049f6-67c9-4e9a-a65f-f575e707fa72",
   "metadata": {},
   "source": [
    "Using Base Python + list comprehension"
   ]
  },
  {
   "cell_type": "code",
   "execution_count": 6,
   "id": "715ffd9b-a8fd-4ecc-93c2-e43053934212",
   "metadata": {},
   "outputs": [
    {
     "data": {
      "text/plain": [
       "12881"
      ]
     },
     "execution_count": 6,
     "metadata": {},
     "output_type": "execute_result"
    }
   ],
   "source": [
    "sum([result[1] for result in [determine_winner_pt2(line[0], line[2]) for line in lines]])"
   ]
  },
  {
   "cell_type": "code",
   "execution_count": null,
   "id": "3ef04f7a-a752-4691-a24e-32634dd72244",
   "metadata": {},
   "outputs": [],
   "source": []
  }
 ],
 "metadata": {
  "kernelspec": {
   "display_name": "Python 3 (ipykernel)",
   "language": "python",
   "name": "python3"
  },
  "language_info": {
   "codemirror_mode": {
    "name": "ipython",
    "version": 3
   },
   "file_extension": ".py",
   "mimetype": "text/x-python",
   "name": "python",
   "nbconvert_exporter": "python",
   "pygments_lexer": "ipython3",
   "version": "3.9.12"
  }
 },
 "nbformat": 4,
 "nbformat_minor": 5
}
