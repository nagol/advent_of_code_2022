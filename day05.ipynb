{
 "cells": [
  {
   "cell_type": "markdown",
   "id": "06dcbab3-efbc-44b5-a96c-4367ab0df43a",
   "metadata": {},
   "source": [
    "# Advent of Code 2022 - Day 5 of 25\n",
    "\n",
    "## Problem 1:\n",
    "\n",
    "--- Day 5: Supply Stacks ---\n",
    "\n",
    "The expedition can depart as soon as the final supplies have been unloaded from the ships. Supplies are stored in stacks of marked crates, but because the needed supplies are buried under many other crates, the crates need to be rearranged.\n",
    "\n",
    "The ship has a giant cargo crane capable of moving crates between stacks. To ensure none of the crates get crushed or fall over, the crane operator will rearrange them in a series of carefully-planned steps. After the crates are rearranged, the desired crates will be at the top of each stack.\n",
    "\n",
    "The Elves don't want to interrupt the crane operator during this delicate procedure, but they forgot to ask her which crate will end up where, and they want to be ready to unload them as soon as possible so they can embark.\n",
    "\n",
    "They do, however, have a drawing of the starting stacks of crates and the rearrangement procedure (your puzzle input). For example:\n",
    "\n",
    "    [D]    \n",
    "[N] [C]    \n",
    "[Z] [M] [P]\n",
    " 1   2   3 \n",
    "\n",
    "move 1 from 2 to 1\n",
    "move 3 from 1 to 3\n",
    "move 2 from 2 to 1\n",
    "move 1 from 1 to 2\n",
    "In this example, there are three stacks of crates. Stack 1 contains two crates: crate Z is on the bottom, and crate N is on top. Stack 2 contains three crates; from bottom to top, they are crates M, C, and D. Finally, stack 3 contains a single crate, P.\n",
    "\n",
    "Then, the rearrangement procedure is given. In each step of the procedure, a quantity of crates is moved from one stack to a different stack. In the first step of the above rearrangement procedure, one crate is moved from stack 2 to stack 1, resulting in this configuration:\n",
    "\n",
    "[D]        \n",
    "[N] [C]    \n",
    "[Z] [M] [P]\n",
    " 1   2   3 \n",
    "In the second step, three crates are moved from stack 1 to stack 3. Crates are moved one at a time, so the first crate to be moved (D) ends up below the second and third crates:\n",
    "\n",
    "        [Z]\n",
    "        [N]\n",
    "    [C] [D]\n",
    "    [M] [P]\n",
    " 1   2   3\n",
    "Then, both crates are moved from stack 2 to stack 1. Again, because crates are moved one at a time, crate C ends up below crate M:\n",
    "\n",
    "        [Z]\n",
    "        [N]\n",
    "[M]     [D]\n",
    "[C]     [P]\n",
    " 1   2   3\n",
    "Finally, one crate is moved from stack 1 to stack 2:\n",
    "\n",
    "        [Z]\n",
    "        [N]\n",
    "        [D]\n",
    "[C] [M] [P]\n",
    " 1   2   3\n",
    "The Elves just need to know which crate will end up on top of each stack; in this example, the top crates are C in stack 1, M in stack 2, and Z in stack 3, so you should combine these together and give the Elves the message CMZ.\n",
    "\n",
    "After the rearrangement procedure completes, what crate ends up on top of each stack?"
   ]
  },
  {
   "cell_type": "raw",
   "id": "574640ff-3c8e-4cd4-b5dd-199cc72223bc",
   "metadata": {},
   "source": [
    "        [H]     [W] [B]            \n",
    "    [D] [B]     [L] [G] [N]        \n",
    "[P] [J] [T]     [M] [R] [D]        \n",
    "[V] [F] [V]     [F] [Z] [B]     [C]\n",
    "[Z] [V] [S]     [G] [H] [C] [Q] [R]\n",
    "[W] [W] [L] [J] [B] [V] [P] [B] [Z]\n",
    "[D] [S] [M] [S] [Z] [W] [J] [T] [G]\n",
    "[T] [L] [Z] [R] [C] [Q] [V] [P] [H]\n",
    " 1   2   3   4   5   6   7   8   9 "
   ]
  },
  {
   "cell_type": "code",
   "execution_count": 1,
   "id": "edd99160-8cc6-425b-b525-2ff043ecddfe",
   "metadata": {},
   "outputs": [
    {
     "data": {
      "text/plain": [
       "[[3, 2, 9],\n",
       " [1, 1, 6],\n",
       " [6, 6, 7],\n",
       " [13, 7, 6],\n",
       " [2, 4, 5],\n",
       " [1, 4, 3],\n",
       " [5, 9, 8],\n",
       " [1, 8, 5],\n",
       " [3, 1, 6],\n",
       " [2, 1, 8]]"
      ]
     },
     "execution_count": 1,
     "metadata": {},
     "output_type": "execute_result"
    }
   ],
   "source": [
    "import re\n",
    "pattern = r'move (\\d{1,2}) from (\\d) to (\\d)'\n",
    "lines = []\n",
    "with open('data/aoc_2022_day5.txt') as f:\n",
    "    lines = [re.findall(pattern, line.replace('\\n','')) for i,line in enumerate(f) if i > 9]\n",
    "    \n",
    "# Flatten list, adjust strings to ints\n",
    "for i,line in enumerate(lines):\n",
    "    lines[i] = [int(item) for item in line[0]]\n",
    "    \n",
    "lines[:10]"
   ]
  },
  {
   "cell_type": "code",
   "execution_count": 2,
   "id": "f130fe82-a19c-4a3b-b620-6d885cecd713",
   "metadata": {},
   "outputs": [],
   "source": [
    "def refresh_data():\n",
    "    stack1 = ['T', 'D', 'W', 'Z', 'V', 'P']\n",
    "    stack2 = ['L', 'S', 'W', 'V', 'F', 'J', 'D']\n",
    "    stack3 = ['Z', 'M', 'L', 'S', 'V', 'T', 'B', 'H']\n",
    "    stack4 = ['R', 'S', 'J']\n",
    "    stack5 = ['C', 'Z', 'B', 'G', 'F', 'M', 'L', 'W']\n",
    "    stack6 = ['Q', 'W', 'V', 'H', 'Z', 'R', 'G', 'B']\n",
    "    stack7 = ['V', 'J', 'P', 'C', 'B', 'D', 'N']\n",
    "    stack8 = ['P', 'T', 'B', 'Q']\n",
    "    stack9 = ['H', 'G', 'Z', 'R', 'C']\n",
    "\n",
    "    stacks = [stack1, stack2, stack3, stack4, stack5, stack6, stack7, stack8, stack9]\n",
    "    return stacks\n",
    "\n",
    "stacks = refresh_data()"
   ]
  },
  {
   "cell_type": "code",
   "execution_count": 3,
   "id": "952a527f-13a2-4de0-90c5-030ad4a0f2ba",
   "metadata": {},
   "outputs": [],
   "source": [
    "def move_item(from_where, to_where):\n",
    "    stacks[to_where - 1].append(stacks[from_where - 1].pop())\n",
    "    return stacks"
   ]
  },
  {
   "cell_type": "code",
   "execution_count": 4,
   "id": "45baf664-a3d7-47b2-88ee-cbf9bbd83884",
   "metadata": {},
   "outputs": [],
   "source": [
    "for move in lines:\n",
    "    for num_moves in range(move[0]):\n",
    "        move_item(move[1], move[2])"
   ]
  },
  {
   "cell_type": "code",
   "execution_count": 5,
   "id": "f6438c1f-0751-4856-99d3-6a0b226e3a95",
   "metadata": {},
   "outputs": [
    {
     "data": {
      "text/plain": [
       "'TLFGBZHCN'"
      ]
     },
     "execution_count": 5,
     "metadata": {},
     "output_type": "execute_result"
    }
   ],
   "source": [
    "answer = ''.join([stack[-1] for stack in stacks])\n",
    "answer"
   ]
  },
  {
   "cell_type": "markdown",
   "id": "c85e0402-cd09-40a5-95b3-8e4574e7d670",
   "metadata": {},
   "source": [
    "## Problem 2\n",
    "\n",
    "--- Part Two ---\n",
    "\n",
    "As you watch the crane operator expertly rearrange the crates, you notice the process isn't following your prediction.\n",
    "\n",
    "Some mud was covering the writing on the side of the crane, and you quickly wipe it away. The crane isn't a CrateMover 9000 - it's a CrateMover 9001.\n",
    "\n",
    "The CrateMover 9001 is notable for many new and exciting features: air conditioning, leather seats, an extra cup holder, and the ability to pick up and move multiple crates at once.\n",
    "\n",
    "Again considering the example above, the crates begin in the same configuration:\n",
    "\n",
    "    [D]    \n",
    "[N] [C]    \n",
    "[Z] [M] [P]\n",
    " 1   2   3 \n",
    "Moving a single crate from stack 2 to stack 1 behaves the same as before:\n",
    "\n",
    "[D]        \n",
    "[N] [C]    \n",
    "[Z] [M] [P]\n",
    " 1   2   3 \n",
    "However, the action of moving three crates from stack 1 to stack 3 means that those three moved crates stay in the same order, resulting in this new configuration:\n",
    "\n",
    "        [D]\n",
    "        [N]\n",
    "    [C] [Z]\n",
    "    [M] [P]\n",
    " 1   2   3\n",
    "Next, as both crates are moved from stack 2 to stack 1, they retain their order as well:\n",
    "\n",
    "        [D]\n",
    "        [N]\n",
    "[C]     [Z]\n",
    "[M]     [P]\n",
    " 1   2   3\n",
    "Finally, a single crate is still moved from stack 1 to stack 2, but now it's crate C that gets moved:\n",
    "\n",
    "        [D]\n",
    "        [N]\n",
    "        [Z]\n",
    "[M] [C] [P]\n",
    " 1   2   3\n",
    "In this example, the CrateMover 9001 has put the crates in a totally different order: MCD.\n",
    "\n",
    "Before the rearrangement process finishes, update your simulation so that the Elves know where they should stand to be ready to unload the final supplies. After the rearrangement procedure completes, what crate ends up on top of each stack?"
   ]
  },
  {
   "cell_type": "code",
   "execution_count": 6,
   "id": "e94f1e69-d6b0-4e08-a6ef-3318cbfad6c0",
   "metadata": {},
   "outputs": [],
   "source": [
    "def move_item(quantity, from_where, to_where):\n",
    "    stacks[to_where - 1] = stacks[to_where - 1] + stacks[from_where - 1][-quantity:]\n",
    "    stacks[from_where - 1] = stacks[from_where - 1][:-quantity]\n",
    "    return stacks"
   ]
  },
  {
   "cell_type": "code",
   "execution_count": 7,
   "id": "de102028-173f-4848-b915-541e6cfcec74",
   "metadata": {},
   "outputs": [],
   "source": [
    "stacks = refresh_data()"
   ]
  },
  {
   "cell_type": "code",
   "execution_count": 8,
   "id": "937b816b-3520-42f8-b002-90ff583b0800",
   "metadata": {},
   "outputs": [
    {
     "data": {
      "text/plain": [
       "'QRQFHFWCL'"
      ]
     },
     "execution_count": 8,
     "metadata": {},
     "output_type": "execute_result"
    }
   ],
   "source": [
    "for move in lines:\n",
    "    move_item(move[0], move[1], move[2])\n",
    "       \n",
    "answer = ''.join([stack[-1] for stack in stacks])\n",
    "answer"
   ]
  },
  {
   "cell_type": "code",
   "execution_count": null,
   "id": "b8f40d9b-0358-4abc-ae0e-fed5a53e8a71",
   "metadata": {},
   "outputs": [],
   "source": []
  }
 ],
 "metadata": {
  "kernelspec": {
   "display_name": "Python 3 (ipykernel)",
   "language": "python",
   "name": "python3"
  },
  "language_info": {
   "codemirror_mode": {
    "name": "ipython",
    "version": 3
   },
   "file_extension": ".py",
   "mimetype": "text/x-python",
   "name": "python",
   "nbconvert_exporter": "python",
   "pygments_lexer": "ipython3",
   "version": "3.9.12"
  }
 },
 "nbformat": 4,
 "nbformat_minor": 5
}
