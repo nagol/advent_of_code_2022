{
 "cells": [
  {
   "cell_type": "markdown",
   "id": "06dcbab3-efbc-44b5-a96c-4367ab0df43a",
   "metadata": {},
   "source": [
    "# Advent of Code 2022 - Day 7 of 25\n",
    "\n",
    "## Problem 1:\n",
    "\n",
    "--- Day 7: No Space Left On Device ---\n",
    "\n",
    "You can hear birds chirping and raindrops hitting leaves as the expedition proceeds. Occasionally, you can even hear much louder sounds in the distance; how big do the animals get out here, anyway?\n",
    "\n",
    "The device the Elves gave you has problems with more than just its communication system. You try to run a system update:\n",
    "\n",
    "$ system-update --please --pretty-please-with-sugar-on-top\n",
    "Error: No space left on device\n",
    "Perhaps you can delete some files to make space for the update?\n",
    "\n",
    "You browse around the filesystem to assess the situation and save the resulting terminal output (your puzzle input). For example:\n",
    "\n",
    "$ cd /\n",
    "$ ls\n",
    "dir a\n",
    "14848514 b.txt\n",
    "8504156 c.dat\n",
    "dir d\n",
    "$ cd a\n",
    "$ ls\n",
    "dir e\n",
    "29116 f\n",
    "2557 g\n",
    "62596 h.lst\n",
    "$ cd e\n",
    "$ ls\n",
    "584 i\n",
    "$ cd ..\n",
    "$ cd ..\n",
    "$ cd d\n",
    "$ ls\n",
    "4060174 j\n",
    "8033020 d.log\n",
    "5626152 d.ext\n",
    "7214296 k\n",
    "The filesystem consists of a tree of files (plain data) and directories (which can contain other directories or files). The outermost directory is called /. You can navigate around the filesystem, moving into or out of directories and listing the contents of the directory you're currently in.\n",
    "\n",
    "Within the terminal output, lines that begin with $ are commands you executed, very much like some modern computers:\n",
    "\n",
    "cd means change directory. This changes which directory is the current directory, but the specific result depends on the argument:\n",
    "cd x moves in one level: it looks in the current directory for the directory named x and makes it the current directory.\n",
    "cd .. moves out one level: it finds the directory that contains the current directory, then makes that directory the current directory.\n",
    "cd / switches the current directory to the outermost directory, /.\n",
    "ls means list. It prints out all of the files and directories immediately contained by the current directory:\n",
    "123 abc means that the current directory contains a file named abc with size 123.\n",
    "dir xyz means that the current directory contains a directory named xyz.\n",
    "Given the commands and output in the example above, you can determine that the filesystem looks visually like this:\n",
    "\n",
    "- / (dir)\n",
    "  - a (dir)\n",
    "    - e (dir)\n",
    "      - i (file, size=584)\n",
    "    - f (file, size=29116)\n",
    "    - g (file, size=2557)\n",
    "    - h.lst (file, size=62596)\n",
    "  - b.txt (file, size=14848514)\n",
    "  - c.dat (file, size=8504156)\n",
    "  - d (dir)\n",
    "    - j (file, size=4060174)\n",
    "    - d.log (file, size=8033020)\n",
    "    - d.ext (file, size=5626152)\n",
    "    - k (file, size=7214296)\n",
    "Here, there are four directories: / (the outermost directory), a and d (which are in /), and e (which is in a). These directories also contain files of various sizes.\n",
    "\n",
    "Since the disk is full, your first step should probably be to find directories that are good candidates for deletion. To do this, you need to determine the total size of each directory. The total size of a directory is the sum of the sizes of the files it contains, directly or indirectly. (Directories themselves do not count as having any intrinsic size.)\n",
    "\n",
    "The total sizes of the directories above can be found as follows:\n",
    "\n",
    "The total size of directory e is 584 because it contains a single file i of size 584 and no other directories.\n",
    "The directory a has total size 94853 because it contains files f (size 29116), g (size 2557), and h.lst (size 62596), plus file i indirectly (a contains e which contains i).\n",
    "Directory d has total size 24933642.\n",
    "As the outermost directory, / contains every file. Its total size is 48381165, the sum of the size of every file.\n",
    "To begin, find all of the directories with a total size of at most 100000, then calculate the sum of their total sizes. In the example above, these directories are a and e; the sum of their total sizes is 95437 (94853 + 584). (As in this example, this process can count files more than once!)\n",
    "\n",
    "Find all of the directories with a total size of at most 100000. What is the sum of the total sizes of those directories?\n",
    "\n"
   ]
  },
  {
   "cell_type": "code",
   "execution_count": 1,
   "id": "edd99160-8cc6-425b-b525-2ff043ecddfe",
   "metadata": {},
   "outputs": [
    {
     "data": {
      "text/plain": [
       "['$ cd /',\n",
       " '$ ls',\n",
       " 'dir fpljqj',\n",
       " '171526 ghtzhjwf.nls',\n",
       " 'dir gsdsbld',\n",
       " 'dir hbmjtb',\n",
       " '296801 mjfjqw.ccv',\n",
       " 'dir nfn',\n",
       " 'dir qmrsvfvw',\n",
       " '102565 qqjnqb.chd']"
      ]
     },
     "execution_count": 1,
     "metadata": {},
     "output_type": "execute_result"
    }
   ],
   "source": [
    "import re\n",
    "import logging\n",
    "\n",
    "logging.basicConfig(\n",
    "    filename='parse.log', \n",
    "    encoding='utf-8', \n",
    "    level=logging.ERROR)\n",
    "\n",
    "with open('data/aoc_2022_day7.txt') as f:\n",
    "    lines = [line.replace('\\n', '') for line in f]\n",
    "    \n",
    "lines[:10]"
   ]
  },
  {
   "cell_type": "code",
   "execution_count": 2,
   "id": "86e0e578-1dcf-431c-a2b2-04a793ee7341",
   "metadata": {},
   "outputs": [],
   "source": [
    "# Patterns to match\n",
    "\n",
    "pattern_cd = re.compile(r'^[$] (cd) (.*)')\n",
    "pattern_ls = re.compile(r'^[$] (ls)')\n",
    "pattern_file = re.compile(r'^(\\d*) (.*)')\n",
    "pattern_dir = re.compile(r'^(dir) (.*)')"
   ]
  },
  {
   "cell_type": "markdown",
   "id": "4c7a75fa-1aac-4fd3-a4fd-34e55a63c0a4",
   "metadata": {},
   "source": [
    "\n",
    "\n"
   ]
  },
  {
   "cell_type": "code",
   "execution_count": 3,
   "id": "15d1f8a8-39e6-4104-90cf-d16c4e4bb83c",
   "metadata": {},
   "outputs": [],
   "source": [
    "class Directory():\n",
    "    \n",
    "    def __init__(self, name, items):\n",
    "        self.name = name\n",
    "        self.items = items\n",
    "        self.path = self.get_path()\n",
    "        self.level = self.get_level()\n",
    "        \n",
    "    def add_item(self, item):\n",
    "        self.items.append(item)\n",
    "        \n",
    "    def get_path(self):\n",
    "        return self.name.split('/')\n",
    "    \n",
    "    def get_level(self):\n",
    "        return len(self.name.split('/'))\n",
    "        \n",
    "    def print_directory_info(self):\n",
    "        print(f'''\n",
    "Name:           {self.name}\n",
    "Level:          {self.level}\n",
    "Items:          {self.items}\n",
    "Path:           {self.get_path()}\n",
    "''')"
   ]
  },
  {
   "cell_type": "code",
   "execution_count": 4,
   "id": "5a5d8044-458d-481f-9dc9-a00bbee3fbf5",
   "metadata": {},
   "outputs": [],
   "source": [
    "def parse_commands(lines):\n",
    "    '''\n",
    "    Iterate through each command and keep track of what is going on.\n",
    "    \n",
    "    Input:\n",
    "        + lines - list of commands\n",
    "    \n",
    "    Output:\n",
    "        + directory_dict - dictionary of Directory objects containing\n",
    "          information derived from command history\n",
    "    '''\n",
    "\n",
    "    current_path = []\n",
    "    directory_dict = {}\n",
    "\n",
    "    for index, line in enumerate(lines):\n",
    "\n",
    "        logging.debug(f'\\nIndex:{index}\\nThe line is: {line}')\n",
    "        change_dir = re.findall(pattern_cd, line)\n",
    "        list_files = re.findall(pattern_ls, line)\n",
    "        file = re.findall(pattern_file, line)\n",
    "        directory = re.findall(pattern_dir, line)\n",
    "\n",
    "        if change_dir:\n",
    "\n",
    "            if change_dir[0][1] == '/':\n",
    "\n",
    "                logging.debug(f'--Changing directory from {current_path} to HOME')\n",
    "                current_path = ['home']\n",
    "\n",
    "            elif change_dir[0][1] == '..':\n",
    "\n",
    "                logging.debug('--Going up a level')\n",
    "                current_path = current_path[:-1]\n",
    "\n",
    "            else:\n",
    "\n",
    "                logging.debug(f'--Changing directory from {current_path} to {change_dir[0][1]}')\n",
    "                current_path.append(change_dir[0][1])\n",
    "\n",
    "            _name = '/'.join(current_path)\n",
    "            if _name not in directory_dict:\n",
    "                logging.debug(f'--Encountered previously unseen directory {_name}')\n",
    "                directory_dict[_name] = Directory(_name, [])\n",
    "                \n",
    "        elif list_files:\n",
    "            logging.debug(f'--Listing files and directories in {current_path}')\n",
    "\n",
    "        elif file:\n",
    "            logging.debug(f'--Located file {file[0][1]} in {current_path}')\n",
    "            directory_dict[_name].add_item((file[0][0], file[0][1]))\n",
    "\n",
    "        elif directory:\n",
    "\n",
    "            logging.debug(f'--Located directory {directory[0][1]} in {current_path}')\n",
    "            directory_dict[_name].add_item(directory[0][1])\n",
    "\n",
    "        else:\n",
    "            logging.debug(f'--Unexpected event occured...')\n",
    "\n",
    "    return directory_dict"
   ]
  },
  {
   "cell_type": "code",
   "execution_count": 5,
   "id": "d23248df-4604-4d5a-a910-55d5ef1c5c40",
   "metadata": {},
   "outputs": [],
   "source": [
    "def get_total_filesize(directory, directory_dict):\n",
    "    \n",
    "    '''\n",
    "    Loop through all directories.\n",
    "        For each directory, add the filesizes and recursively retrieve the directory sizes.\n",
    "        \n",
    "    Input: \n",
    "        + directory - specific directory in directory_dict\n",
    "        + directory_dict - dictionary of Directory objects\n",
    "        \n",
    "    Output:\n",
    "        + total_filesize int\n",
    "    '''\n",
    "    \n",
    "    total_filesize = 0\n",
    "    \n",
    "    for item in directory.items:\n",
    "        \n",
    "        if type(item) == tuple:\n",
    "            total_filesize += int(item[0])\n",
    "\n",
    "        if type(item) == str:\n",
    "            subfolder_name = directory.name + '/' + item\n",
    "            logging.debug(f'Subfolder found {subfolder_name}')\n",
    "            total_filesize += int(get_total_filesize(directory_dict[subfolder_name], directory_dict))\n",
    "            \n",
    "    return total_filesize"
   ]
  },
  {
   "cell_type": "code",
   "execution_count": 6,
   "id": "ad810a13-9623-4f06-9eed-9b32d0342777",
   "metadata": {},
   "outputs": [],
   "source": [
    "def get_filesizes(directory_dict):\n",
    "    \n",
    "    '''\n",
    "    Loop over entire directory_dict to get all filesizes\n",
    "    \n",
    "    Input: \n",
    "        + directory_dict - dictionary of Directory objects\n",
    "        \n",
    "    Output:\n",
    "        + dictionary of total filesize, same keys as directory_dict\n",
    "    \n",
    "    '''\n",
    "    \n",
    "    max_level = max([directory_dict[key].level for key in directory_dict.keys()])\n",
    "    directory_size = {}\n",
    "\n",
    "    for level in range(max_level, 0, -1):\n",
    "        for key in directory_dict.keys():\n",
    "            directory_size[key] = get_total_filesize(directory_dict[key], directory_dict)\n",
    "\n",
    "    return directory_size"
   ]
  },
  {
   "cell_type": "code",
   "execution_count": 7,
   "id": "448856e3-8369-4d1d-821b-7d4ddcff86ac",
   "metadata": {},
   "outputs": [],
   "source": [
    "directory_dict = parse_commands(lines)\n",
    "directory_sizes = get_filesizes(directory_dict)"
   ]
  },
  {
   "cell_type": "code",
   "execution_count": 8,
   "id": "3ddb3173-e3d1-457c-9f01-8edabf48ca09",
   "metadata": {},
   "outputs": [
    {
     "data": {
      "text/plain": [
       "1783610"
      ]
     },
     "execution_count": 8,
     "metadata": {},
     "output_type": "execute_result"
    }
   ],
   "source": [
    "# Part 1 Answer\n",
    "\n",
    "sum([values for key, values in directory_sizes.items() if values <= 100000])"
   ]
  },
  {
   "cell_type": "markdown",
   "id": "c5f33ef5-7bcb-47ff-9bf3-f1b9ed13fda1",
   "metadata": {},
   "source": [
    "## Problem 2:\n",
    "\n",
    "Now, you're ready to choose a directory to delete.\n",
    "\n",
    "The total disk space available to the filesystem is 70000000. To run the update, you need unused space of at least 30000000. You need to find a directory you can delete that will free up enough space to run the update.\n",
    "\n",
    "In the example above, the total size of the outermost directory (and thus the total amount of used space) is 48381165; this means that the size of the unused space must currently be 21618835, which isn't quite the 30000000 required by the update. Therefore, the update still requires a directory with total size of at least 8381165 to be deleted before it can run.\n",
    "\n",
    "To achieve this, you have the following options:\n",
    "\n",
    "Delete directory e, which would increase unused space by 584.\n",
    "Delete directory a, which would increase unused space by 94853.\n",
    "Delete directory d, which would increase unused space by 24933642.\n",
    "Delete directory /, which would increase unused space by 48381165.\n",
    "Directories e and a are both too small; deleting them would not free up enough space. However, directories d and / are both big enough! Between these, choose the smallest: d, increasing unused space by 24933642.\n",
    "\n",
    "Find the smallest directory that, if deleted, would free up enough space on the filesystem to run the update. What is the total size of that directory?"
   ]
  },
  {
   "cell_type": "code",
   "execution_count": 9,
   "id": "bafe2888-633b-4ca3-ab22-9a93a9339f55",
   "metadata": {},
   "outputs": [
    {
     "data": {
      "text/plain": [
       "4359867"
      ]
     },
     "execution_count": 9,
     "metadata": {},
     "output_type": "execute_result"
    }
   ],
   "source": [
    "FILESYSTEM_SPACE = 70000000\n",
    "NEEDED_UNUSED = 30000000\n",
    "\n",
    "FILESYSTEM_SPACE - directory_sizes['home']\n",
    "NEEDED_UNUSED - (FILESYSTEM_SPACE - directory_sizes['home'])"
   ]
  },
  {
   "cell_type": "code",
   "execution_count": 10,
   "id": "0f4259ff-8b0c-491f-95c8-5dfb189dc374",
   "metadata": {},
   "outputs": [
    {
     "name": "stdout",
     "output_type": "stream",
     "text": [
      "Smallest value found meeting requirements is ('home/nfn/qmrsvfvw/fpljqj/tdnp', 4370655)\n"
     ]
    }
   ],
   "source": [
    "min_value = [('home', directory_sizes['home'])]\n",
    "for key, value in directory_sizes.items():\n",
    "    \n",
    "    if value > NEEDED_UNUSED - (FILESYSTEM_SPACE - directory_sizes['home']):\n",
    "        if value < min_value[-1][1]:\n",
    "            min_value.append((key,value))\n",
    "print(f'Smallest value found meeting requirements is {min_value[-1]}')"
   ]
  },
  {
   "cell_type": "code",
   "execution_count": null,
   "id": "06741ce0-8215-4aaa-a34e-ebc7afd2e4df",
   "metadata": {},
   "outputs": [],
   "source": []
  }
 ],
 "metadata": {
  "kernelspec": {
   "display_name": "Python 3 (ipykernel)",
   "language": "python",
   "name": "python3"
  },
  "language_info": {
   "codemirror_mode": {
    "name": "ipython",
    "version": 3
   },
   "file_extension": ".py",
   "mimetype": "text/x-python",
   "name": "python",
   "nbconvert_exporter": "python",
   "pygments_lexer": "ipython3",
   "version": "3.9.12"
  }
 },
 "nbformat": 4,
 "nbformat_minor": 5
}
