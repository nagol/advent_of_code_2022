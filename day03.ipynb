{
 "cells": [
  {
   "cell_type": "markdown",
   "id": "06dcbab3-efbc-44b5-a96c-4367ab0df43a",
   "metadata": {},
   "source": [
    "# Advent of Code 2022 - Day 3 of 25\n",
    "\n",
    "## Problem 1:\n",
    "\n",
    "--- Day 3: Rucksack Reorganization ---\n",
    "\n",
    "One Elf has the important job of loading all of the rucksacks with supplies for the jungle journey. Unfortunately, that Elf didn't quite follow the packing instructions, and so a few items now need to be rearranged.\n",
    "\n",
    "Each rucksack has two large compartments. All items of a given type are meant to go into exactly one of the two compartments. The Elf that did the packing failed to follow this rule for exactly one item type per rucksack.\n",
    "\n",
    "The Elves have made a list of all of the items currently in each rucksack (your puzzle input), but they need your help finding the errors. Every item type is identified by a single lowercase or uppercase letter (that is, a and A refer to different types of items).\n",
    "\n",
    "The list of items for each rucksack is given as characters all on a single line. A given rucksack always has the same number of items in each of its two compartments, so the first half of the characters represent items in the first compartment, while the second half of the characters represent items in the second compartment.\n",
    "\n",
    "For example, suppose you have the following list of contents from six rucksacks:\n",
    "\n",
    "+ vJrwpWtwJgWrhcsFMMfFFhFp\n",
    "+ jqHRNqRjqzjGDLGLrsFMfFZSrLrFZsSL\n",
    "+ PmmdzqPrVvPwwTWBwg\n",
    "+ wMqvLMZHhHMvwLHjbvcjnnSBnvTQFn\n",
    "+ ttgJtRGJQctTZtZT\n",
    "+ CrZsJsPPZsGzwwsLwLmpwMDw\n",
    "\n",
    "The first rucksack contains the items vJrwpWtwJgWrhcsFMMfFFhFp, which means its first compartment contains the items vJrwpWtwJgWr, while the second compartment contains the items hcsFMMfFFhFp. The only item type that appears in both compartments is lowercase p.\n",
    "The second rucksack's compartments contain jqHRNqRjqzjGDLGL and rsFMfFZSrLrFZsSL. The only item type that appears in both compartments is uppercase L.\n",
    "The third rucksack's compartments contain PmmdzqPrV and vPwwTWBwg; the only common item type is uppercase P.\n",
    "The fourth rucksack's compartments only share item type v.\n",
    "The fifth rucksack's compartments only share item type t.\n",
    "The sixth rucksack's compartments only share item type s.\n",
    "To help prioritize item rearrangement, every item type can be converted to a priority:\n",
    "\n",
    "Lowercase item types a through z have priorities 1 through 26.\n",
    "Uppercase item types A through Z have priorities 27 through 52.\n",
    "In the above example, the priority of the item type that appears in both compartments of each rucksack is 16 (p), 38 (L), 42 (P), 22 (v), 20 (t), and 19 (s); the sum of these is 157.\n",
    "\n",
    "Find the item type that appears in both compartments of each rucksack. What is the sum of the priorities of those item types?\n"
   ]
  },
  {
   "cell_type": "code",
   "execution_count": 7,
   "id": "edd99160-8cc6-425b-b525-2ff043ecddfe",
   "metadata": {},
   "outputs": [
    {
     "name": "stdout",
     "output_type": "stream",
     "text": [
      "['GGVGlqWFgVfFqqVZGFlblJPMsDbbMrDMpDsJRn', 'LwzHtwdLHHwDrzPZzzsJbJ', 'wdLTBvSvHvZVGCjhfN']\n"
     ]
    }
   ],
   "source": [
    "with open('data/aoc_2022_day3.txt') as f:\n",
    "    lines = [line.replace('\\n', '') for line in f]\n",
    "    \n",
    "print(lines[:3])"
   ]
  },
  {
   "cell_type": "code",
   "execution_count": 2,
   "id": "2f616579-1e1a-4cf6-bb96-24adbbc6cb33",
   "metadata": {},
   "outputs": [
    {
     "data": {
      "text/plain": [
       "(1, 26, 27, 52)"
      ]
     },
     "execution_count": 2,
     "metadata": {},
     "output_type": "execute_result"
    }
   ],
   "source": [
    "# Make sure mapping is correct\n",
    "\n",
    "ord('a') - 96, ord('z') - 96, ord('A') - 38, ord('Z') - 38"
   ]
  },
  {
   "cell_type": "code",
   "execution_count": 3,
   "id": "4a97c7e5-0939-4bde-a2cf-df266edb58e6",
   "metadata": {},
   "outputs": [],
   "source": [
    "def convert_letter(letter):\n",
    "    \n",
    "    if letter.isupper():\n",
    "        return ord(letter) - 38\n",
    "    else:\n",
    "        return ord(letter) - 96"
   ]
  },
  {
   "cell_type": "code",
   "execution_count": 4,
   "id": "8c91eeac-6178-45d4-9533-6f15775e0f31",
   "metadata": {},
   "outputs": [],
   "source": [
    "def rucksack_item(string):\n",
    "    \n",
    "    splitter= int(len(string)/2)\n",
    "    p1, p2 = string[0:splitter], string[splitter:]\n",
    "    \n",
    "    return [convert_letter(p) for p in p1 if p in p1 and p in p2][0]  "
   ]
  },
  {
   "cell_type": "code",
   "execution_count": 5,
   "id": "03106aee-184a-4860-9428-9f89855cb409",
   "metadata": {},
   "outputs": [
    {
     "data": {
      "text/plain": [
       "8233"
      ]
     },
     "execution_count": 5,
     "metadata": {},
     "output_type": "execute_result"
    }
   ],
   "source": [
    "sum([rucksack_item(item) for item in lines])"
   ]
  },
  {
   "cell_type": "markdown",
   "id": "c4e3c488-d3fd-44d7-a6ba-4dee1091c53e",
   "metadata": {},
   "source": [
    "## Problem 2:\n",
    "--- Part Two ---\n",
    "\n",
    "As you finish identifying the misplaced items, the Elves come to you with another issue.\n",
    "\n",
    "For safety, the Elves are divided into groups of three. Every Elf carries a badge that identifies their group. For efficiency, within each group of three Elves, the badge is the only item type carried by all three Elves. That is, if a group's badge is item type B, then all three Elves will have item type B somewhere in their rucksack, and at most two of the Elves will be carrying any other item type.\n",
    "\n",
    "The problem is that someone forgot to put this year's updated authenticity sticker on the badges. All of the badges need to be pulled out of the rucksacks so the new authenticity stickers can be attached.\n",
    "\n",
    "Additionally, nobody wrote down which item type corresponds to each group's badges. The only way to tell which item type is the right one is by finding the one item type that is common between all three Elves in each group.\n",
    "\n",
    "Every set of three lines in your list corresponds to a single group, but each group can have a different badge item type. So, in the above example, the first group's rucksacks are the first three lines:\n",
    "\n",
    "vJrwpWtwJgWrhcsFMMfFFhFp\n",
    "jqHRNqRjqzjGDLGLrsFMfFZSrLrFZsSL\n",
    "PmmdzqPrVvPwwTWBwg\n",
    "And the second group's rucksacks are the next three lines:\n",
    "\n",
    "wMqvLMZHhHMvwLHjbvcjnnSBnvTQFn\n",
    "ttgJtRGJQctTZtZT\n",
    "CrZsJsPPZsGzwwsLwLmpwMDw\n",
    "In the first group, the only item type that appears in all three rucksacks is lowercase r; this must be their badges. In the second group, their badge item type must be Z.\n",
    "\n",
    "Priorities for these items must still be found to organize the sticker attachment efforts: here, they are 18 (r) for the first group and 52 (Z) for the second group. The sum of these is 70.\n",
    "\n",
    "Find the item type that corresponds to the badges of each three-Elf group. What is the sum of the priorities of those item types?"
   ]
  },
  {
   "cell_type": "code",
   "execution_count": 6,
   "id": "152b572f-66aa-40b7-9055-a8107caf998d",
   "metadata": {},
   "outputs": [
    {
     "data": {
      "text/plain": [
       "2821"
      ]
     },
     "execution_count": 6,
     "metadata": {},
     "output_type": "execute_result"
    }
   ],
   "source": [
    "badges = []\n",
    "total_triples = int(len(lines)/3)\n",
    "\n",
    "for triple_number in range(total_triples):\n",
    "    \n",
    "    (badges.append(set(lines[3*triple_number])\n",
    "                   .intersection(lines[3*triple_number + 1])\n",
    "                   .intersection(lines[3*triple_number + 2]).pop()))\n",
    "    \n",
    "sum([convert_letter(badge) for badge in badges])"
   ]
  },
  {
   "cell_type": "code",
   "execution_count": null,
   "id": "32482919-fe5c-421b-baaf-754a1eae2b31",
   "metadata": {},
   "outputs": [],
   "source": []
  }
 ],
 "metadata": {
  "kernelspec": {
   "display_name": "Python 3 (ipykernel)",
   "language": "python",
   "name": "python3"
  },
  "language_info": {
   "codemirror_mode": {
    "name": "ipython",
    "version": 3
   },
   "file_extension": ".py",
   "mimetype": "text/x-python",
   "name": "python",
   "nbconvert_exporter": "python",
   "pygments_lexer": "ipython3",
   "version": "3.9.12"
  }
 },
 "nbformat": 4,
 "nbformat_minor": 5
}
