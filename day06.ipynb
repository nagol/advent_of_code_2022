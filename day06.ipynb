{
 "cells": [
  {
   "cell_type": "markdown",
   "id": "06dcbab3-efbc-44b5-a96c-4367ab0df43a",
   "metadata": {},
   "source": [
    "# Advent of Code 2022 - Day 6 of 25\n",
    "\n",
    "## Problem 1:\n",
    "\n",
    "--- Day 6: Tuning Trouble ---\n",
    "\n",
    "The preparations are finally complete; you and the Elves leave camp on foot and begin to make your way toward the star fruit grove.\n",
    "\n",
    "As you move through the dense undergrowth, one of the Elves gives you a handheld device. He says that it has many fancy features, but the most important one to set up right now is the communication system.\n",
    "\n",
    "However, because he's heard you have significant experience dealing with signal-based systems, he convinced the other Elves that it would be okay to give you their one malfunctioning device - surely you'll have no problem fixing it.\n",
    "\n",
    "As if inspired by comedic timing, the device emits a few colorful sparks.\n",
    "\n",
    "To be able to communicate with the Elves, the device needs to lock on to their signal. The signal is a series of seemingly-random characters that the device receives one at a time.\n",
    "\n",
    "To fix the communication system, you need to add a subroutine to the device that detects a start-of-packet marker in the datastream. In the protocol being used by the Elves, the start of a packet is indicated by a sequence of four characters that are all different.\n",
    "\n",
    "The device will send your subroutine a datastream buffer (your puzzle input); your subroutine needs to identify the first position where the four most recently received characters were all different. Specifically, it needs to report the number of characters from the beginning of the buffer to the end of the first such four-character marker.\n",
    "\n",
    "For example, suppose you receive the following datastream buffer:\n",
    "\n",
    "mjqjpqmgbljsphdztnvjfqwrcgsmlb\n",
    "After the first three characters (mjq) have been received, there haven't been enough characters received yet to find the marker. The first time a marker could occur is after the fourth character is received, making the most recent four characters mjqj. Because j is repeated, this isn't a marker.\n",
    "\n",
    "The first time a marker appears is after the seventh character arrives. Once it does, the last four characters received are jpqm, which are all different. In this case, your subroutine should report the value 7, because the first start-of-packet marker is complete after 7 characters have been processed.\n",
    "\n",
    "Here are a few more examples:\n",
    "\n",
    "+ bvwbjplbgvbhsrlpgdmjqwftvncz: first marker after character 5\n",
    "+ nppdvjthqldpwncqszvftbrmjlhg: first marker after character 6\n",
    "+ nznrnfrfntjfmvfwmzdfjlvtqnbhcprsg: first marker after character 10\n",
    "+ zcfzfwzzqfrljwzlrfnpqdbhtmscgvjw: first marker after character 11\n",
    "How many characters need to be processed before the first start-of-packet marker is detected?"
   ]
  },
  {
   "cell_type": "code",
   "execution_count": 35,
   "id": "edd99160-8cc6-425b-b525-2ff043ecddfe",
   "metadata": {},
   "outputs": [
    {
     "data": {
      "text/plain": [
       "(1198, 'crjs')"
      ]
     },
     "execution_count": 35,
     "metadata": {},
     "output_type": "execute_result"
    }
   ],
   "source": [
    "\n",
    "with open('data/aoc_2022_day6.txt') as f:\n",
    "    string = f.readline()\n",
    "    string = string.replace('\\n','')\n",
    "\n",
    "def find_beginning(string, length_to_check):\n",
    "    \n",
    "    for index, char in enumerate(string):\n",
    "\n",
    "        if index > length_to_check-1:\n",
    "            if len(set(string[index-length_to_check+1:index+1])) == length_to_check:\n",
    "                return (index+1, string[index-length_to_check+1:index+1])\n",
    "                \n",
    "\n",
    "\n",
    "result = find_beginning(string, 4)\n",
    "result"
   ]
  },
  {
   "cell_type": "markdown",
   "id": "c85e0402-cd09-40a5-95b3-8e4574e7d670",
   "metadata": {
    "tags": []
   },
   "source": [
    "## Problem 2\n",
    "\n",
    "Your device's communication system is correctly detecting packets, but still isn't working. It looks like it also needs to look for messages.\n",
    "\n",
    "A start-of-message marker is just like a start-of-packet marker, except it consists of 14 distinct characters rather than 4.\n",
    "\n",
    "Here are the first positions of start-of-message markers for all of the above examples:\n",
    "\n",
    "+ mjqjpqmgbljsphdztnvjfqwrcgsmlb: first marker after character 19\n",
    "+ bvwbjplbgvbhsrlpgdmjqwftvncz: first marker after character 23\n",
    "+ nppdvjthqldpwncqszvftbrmjlhg: first marker after character 23\n",
    "+ nznrnfrfntjfmvfwmzdfjlvtqnbhcprsg: first marker after character 29\n",
    "+ zcfzfwzzqfrljwzlrfnpqdbhtmscgvjw: first marker after character 26\n",
    "\n",
    "How many characters need to be processed before the first start-of-message marker is detected?"
   ]
  },
  {
   "cell_type": "code",
   "execution_count": 36,
   "id": "e94f1e69-d6b0-4e08-a6ef-3318cbfad6c0",
   "metadata": {},
   "outputs": [
    {
     "data": {
      "text/plain": [
       "(3120, 'vcqnlwmrfgjhbd')"
      ]
     },
     "execution_count": 36,
     "metadata": {},
     "output_type": "execute_result"
    }
   ],
   "source": [
    "result = find_beginning(string, 14)\n",
    "result"
   ]
  },
  {
   "cell_type": "code",
   "execution_count": 7,
   "id": "de102028-173f-4848-b915-541e6cfcec74",
   "metadata": {},
   "outputs": [],
   "source": []
  },
  {
   "cell_type": "code",
   "execution_count": null,
   "id": "937b816b-3520-42f8-b002-90ff583b0800",
   "metadata": {},
   "outputs": [],
   "source": []
  },
  {
   "cell_type": "code",
   "execution_count": null,
   "id": "b8f40d9b-0358-4abc-ae0e-fed5a53e8a71",
   "metadata": {},
   "outputs": [],
   "source": []
  }
 ],
 "metadata": {
  "kernelspec": {
   "display_name": "Python 3 (ipykernel)",
   "language": "python",
   "name": "python3"
  },
  "language_info": {
   "codemirror_mode": {
    "name": "ipython",
    "version": 3
   },
   "file_extension": ".py",
   "mimetype": "text/x-python",
   "name": "python",
   "nbconvert_exporter": "python",
   "pygments_lexer": "ipython3",
   "version": "3.9.12"
  }
 },
 "nbformat": 4,
 "nbformat_minor": 5
}
