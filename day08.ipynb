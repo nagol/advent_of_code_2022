{
 "cells": [
  {
   "cell_type": "markdown",
   "id": "06dcbab3-efbc-44b5-a96c-4367ab0df43a",
   "metadata": {},
   "source": [
    "# Advent of Code 2022 - Day 7 of 25\n",
    "\n",
    "## Problem 1:\n",
    "--- Day 8: Treetop Tree House ---\n",
    "\n",
    "The expedition comes across a peculiar patch of tall trees all planted carefully in a grid. The Elves explain that a previous expedition planted these trees as a reforestation effort. Now, they're curious if this would be a good location for a tree house.\n",
    "\n",
    "First, determine whether there is enough tree cover here to keep a tree house hidden. To do this, you need to count the number of trees that are visible from outside the grid when looking directly along a row or column.\n",
    "\n",
    "The Elves have already launched a quadcopter to generate a map with the height of each tree (your puzzle input). For example:\n",
    "\n",
    "30373\n",
    "25512\n",
    "65332\n",
    "33549\n",
    "35390\n",
    "\n",
    "Each tree is represented as a single digit whose value is its height, where 0 is the shortest and 9 is the tallest.\n",
    "\n",
    "A tree is visible if all of the other trees between it and an edge of the grid are shorter than it. Only consider trees in the same row or column; that is, only look up, down, left, or right from any given tree.\n",
    "\n",
    "All of the trees around the edge of the grid are visible - since they are already on the edge, there are no trees to block the view. In this example, that only leaves the interior nine trees to consider:\n",
    "\n",
    "+ The top-left 5 is visible from the left and top. (It isn't visible from the right or bottom since other trees of height 5 are in the way.)\n",
    "+ The top-middle 5 is visible from the top and right.\n",
    "+ The top-right 1 is not visible from any direction; for it to be visible, there would need to only be trees of height 0 between it and an edge.\n",
    "+ The left-middle 5 is visible, but only from the right.\n",
    "+ The center 3 is not visible from any direction; for it to be visible, there would need to be only trees of at most height 2 between it and an edge.\n",
    "+ The right-middle 3 is visible from the right.\n",
    "+ In the bottom row, the middle 5 is visible, but the 3 and 4 are not.\n",
    "\n",
    "With 16 trees visible on the edge and another 5 visible in the interior, a total of 21 trees are visible in this arrangement.\n",
    "\n",
    "Consider your map; how many trees are visible from outside the grid?\n"
   ]
  },
  {
   "cell_type": "code",
   "execution_count": 1,
   "id": "06741ce0-8215-4aaa-a34e-ebc7afd2e4df",
   "metadata": {},
   "outputs": [
    {
     "name": "stdout",
     "output_type": "stream",
     "text": [
      "Patch size is (99, 99)\n"
     ]
    }
   ],
   "source": [
    "with open('data/aoc_2022_day8.txt') as f:\n",
    "    lines = [line.replace('\\n', '') for line in f]\n",
    "    \n",
    "print(f'Patch size is {len(lines), len(lines[0])}')\n",
    "\n",
    "test = [\n",
    "    '30373',\n",
    "    '25512',\n",
    "    '65332',\n",
    "    '33549',\n",
    "    '35390'\n",
    "]"
   ]
  },
  {
   "cell_type": "code",
   "execution_count": 2,
   "id": "6e499370-c008-490d-a552-0fc5beb66161",
   "metadata": {},
   "outputs": [],
   "source": [
    "def look_around(forest, row, col):\n",
    "    \n",
    "    max_index = len(forest)-1\n",
    "    tree_height = int(forest[row][col])\n",
    "    \n",
    "    assert row <= max_index and col <= max_index\n",
    "      \n",
    "    # Boundary is always visible\n",
    "    if row == 0 or row == max_index or col == 0 or col == max_index:\n",
    "        return 1\n",
    "    \n",
    "    look_up = ''.join([forest[r][col] for r in range(row)])\n",
    "    look_down = ''.join([forest[r][col] for r in range(row+1, max_index+1)])\n",
    "    look_left = forest[row][0:col]\n",
    "    look_right = forest[row][col+1:]\n",
    "    \n",
    "    max_look_up = max([int(tree) for tree in look_up]) if look_up != '' else 0\n",
    "    max_look_down = max([int(tree) for tree in look_down]) if look_down != '' else 0\n",
    "    max_look_left = max([int(tree) for tree in look_left]) if look_left != '' else 0\n",
    "    max_look_right = max([int(tree) for tree in look_right]) if look_right != '' else 0\n",
    "    \n",
    "    if ((tree_height > max_look_up) \n",
    "        or (tree_height > max_look_down) \n",
    "        or (tree_height > max_look_left) \n",
    "        or (tree_height > max_look_right)):\n",
    "        \n",
    "        return 1\n",
    "    \n",
    "    else:\n",
    "        \n",
    "        return 0"
   ]
  },
  {
   "cell_type": "code",
   "execution_count": 3,
   "id": "c31f25ee-4ff1-4dca-a736-092a8f4feb59",
   "metadata": {},
   "outputs": [
    {
     "data": {
      "text/plain": [
       "1"
      ]
     },
     "execution_count": 3,
     "metadata": {},
     "output_type": "execute_result"
    }
   ],
   "source": [
    "# Test\n",
    "\n",
    "look_around(lines, 1, 1)"
   ]
  },
  {
   "cell_type": "code",
   "execution_count": 4,
   "id": "4a482687-1048-420d-859c-c191318ed7e2",
   "metadata": {},
   "outputs": [],
   "source": [
    "def scan_forest(forest):\n",
    "    \n",
    "    rows, cols = len(forest), len(forest[0]) \n",
    "    checked_trees = []\n",
    "    for r in range(rows):\n",
    "        for c in range(cols):\n",
    "            checked_trees.append(look_around(forest, r, c))\n",
    "            \n",
    "    return sum(checked_trees)\n"
   ]
  },
  {
   "cell_type": "code",
   "execution_count": 5,
   "id": "e7af9c60-5860-43d5-be2e-b902d77a1b72",
   "metadata": {},
   "outputs": [
    {
     "data": {
      "text/plain": [
       "21"
      ]
     },
     "execution_count": 5,
     "metadata": {},
     "output_type": "execute_result"
    }
   ],
   "source": [
    "scan_forest(test)"
   ]
  },
  {
   "cell_type": "code",
   "execution_count": 6,
   "id": "5f4db6bf-b360-4d0e-8d1f-fbd557550d02",
   "metadata": {},
   "outputs": [
    {
     "data": {
      "text/plain": [
       "1779"
      ]
     },
     "execution_count": 6,
     "metadata": {},
     "output_type": "execute_result"
    }
   ],
   "source": [
    "scan_forest(lines)"
   ]
  },
  {
   "cell_type": "markdown",
   "id": "e6fba556-4bc5-4833-8f95-7c496f087756",
   "metadata": {},
   "source": [
    "## Problem 2\n",
    "\n",
    "--- Part Two ---\n",
    "\n",
    "Content with the amount of tree cover available, the Elves just need to know the best spot to build their tree house: they would like to be able to see a lot of trees.\n",
    "\n",
    "To measure the viewing distance from a given tree, look up, down, left, and right from that tree; stop if you reach an edge or at the first tree that is the same height or taller than the tree under consideration. (If a tree is right on the edge, at least one of its viewing distances will be zero.)\n",
    "\n",
    "The Elves don't care about distant trees taller than those found by the rules above; the proposed tree house has large eaves to keep it dry, so they wouldn't be able to see higher than the tree house anyway.\n",
    "\n",
    "In the example above, consider the middle 5 in the second row:\n",
    "\n",
    "30373\n",
    "25512\n",
    "65332\n",
    "33549\n",
    "35390\n",
    "Looking up, its view is not blocked; it can see 1 tree (of height 3).\n",
    "Looking left, its view is blocked immediately; it can see only 1 tree (of height 5, right next to it).\n",
    "Looking right, its view is not blocked; it can see 2 trees.\n",
    "Looking down, its view is blocked eventually; it can see 2 trees (one of height 3, then the tree of height 5 that blocks its view).\n",
    "A tree's scenic score is found by multiplying together its viewing distance in each of the four directions. For this tree, this is 4 (found by multiplying 1 * 1 * 2 * 2).\n",
    "\n",
    "However, you can do even better: consider the tree of height 5 in the middle of the fourth row:\n",
    "\n",
    "30373\n",
    "25512\n",
    "65332\n",
    "33549\n",
    "35390\n",
    "Looking up, its view is blocked at 2 trees (by another tree with a height of 5).\n",
    "Looking left, its view is not blocked; it can see 2 trees.\n",
    "Looking down, its view is also not blocked; it can see 1 tree.\n",
    "Looking right, its view is blocked at 2 trees (by a massive tree of height 9).\n",
    "This tree's scenic score is 8 (2 * 2 * 1 * 2); this is the ideal spot for the tree house.\n",
    "\n",
    "Consider each tree on your map. What is the highest scenic score possible for any tree?\n",
    "\n"
   ]
  },
  {
   "cell_type": "code",
   "execution_count": 7,
   "id": "0dc29c95-dac8-47bc-83d4-4ee8ff7c281b",
   "metadata": {},
   "outputs": [],
   "source": [
    "def look_around_pt2(forest, row, col):\n",
    "\n",
    "    max_index = len(forest)-1\n",
    "    tree_height = int(forest[row][col])\n",
    "    \n",
    "    assert row <= max_index and col <= max_index\n",
    "      \n",
    "    # Boundary is always visible\n",
    "    if row == 0 or row == max_index or col == 0 or col == max_index:\n",
    "        return 0\n",
    "    \n",
    "    look_up = ''.join([forest[r][col] for r in range(row)])\n",
    "    look_down = ''.join([forest[r][col] for r in range(row+1, max_index+1)])\n",
    "    look_left = forest[row][0:col]\n",
    "    look_right = forest[row][col+1:]\n",
    "    \n",
    "    look_up_score = 0\n",
    "    for tree in look_up[::-1]:\n",
    "        \n",
    "        look_up_score += 1\n",
    "        if int(tree) < tree_height:\n",
    "            continue\n",
    "        else:\n",
    "            break\n",
    "            \n",
    "    look_down_score = 0\n",
    "    for tree in look_down:\n",
    "        look_down_score += 1\n",
    "        \n",
    "        if int(tree) < tree_height:\n",
    "            continue\n",
    "        else:\n",
    "            break\n",
    "            \n",
    "    look_left_score = 0\n",
    "    for tree in look_left[::-1]:\n",
    "        look_left_score += 1\n",
    "        if int(tree) < tree_height:\n",
    "            continue\n",
    "        else:\n",
    "            break\n",
    "            \n",
    "    look_right_score = 0\n",
    "    for tree in look_right:\n",
    "        look_right_score += 1\n",
    "        if int(tree) < tree_height:\n",
    "            continue\n",
    "        else:\n",
    "            break\n",
    "    \n",
    "    return look_up_score * look_down_score * look_left_score * look_right_score"
   ]
  },
  {
   "cell_type": "code",
   "execution_count": 8,
   "id": "8fe29b7e-22ee-4a0d-95dc-bd73faa47eda",
   "metadata": {},
   "outputs": [],
   "source": [
    "def scan_forest_pt2(forest):\n",
    "    \n",
    "    rows, cols = len(forest), len(forest[0]) \n",
    "    checked_trees = []\n",
    "    for r in range(rows):\n",
    "        for c in range(cols):\n",
    "            checked_trees.append(look_around_pt2(forest, r, c))\n",
    "            \n",
    "    return max(checked_trees)"
   ]
  },
  {
   "cell_type": "code",
   "execution_count": 9,
   "id": "cb3dec88-4b7d-43db-b056-4b803d837472",
   "metadata": {},
   "outputs": [
    {
     "data": {
      "text/plain": [
       "8"
      ]
     },
     "execution_count": 9,
     "metadata": {},
     "output_type": "execute_result"
    }
   ],
   "source": [
    "scan_forest_pt2(test)"
   ]
  },
  {
   "cell_type": "code",
   "execution_count": 10,
   "id": "f4f1fcc1-fae0-4c5c-a780-95385e22e101",
   "metadata": {},
   "outputs": [
    {
     "data": {
      "text/plain": [
       "172224"
      ]
     },
     "execution_count": 10,
     "metadata": {},
     "output_type": "execute_result"
    }
   ],
   "source": [
    "scan_forest_pt2(lines)"
   ]
  },
  {
   "cell_type": "code",
   "execution_count": null,
   "id": "a2cd5ab3-e99d-4e9b-8d80-caa5f62999d5",
   "metadata": {},
   "outputs": [],
   "source": []
  }
 ],
 "metadata": {
  "kernelspec": {
   "display_name": "Python 3 (ipykernel)",
   "language": "python",
   "name": "python3"
  },
  "language_info": {
   "codemirror_mode": {
    "name": "ipython",
    "version": 3
   },
   "file_extension": ".py",
   "mimetype": "text/x-python",
   "name": "python",
   "nbconvert_exporter": "python",
   "pygments_lexer": "ipython3",
   "version": "3.9.12"
  }
 },
 "nbformat": 4,
 "nbformat_minor": 5
}
