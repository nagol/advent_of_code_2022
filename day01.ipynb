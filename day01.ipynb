{
 "cells": [
  {
   "cell_type": "markdown",
   "id": "06dcbab3-efbc-44b5-a96c-4367ab0df43a",
   "metadata": {},
   "source": [
    "# Advent of Code 2022 - Day 1 of 25\n",
    "\n",
    "## Problem 1:\n",
    "\n",
    "Santa's reindeer typically eat regular reindeer food, but they need a lot of magical energy to deliver presents on Christmas. For that, their favorite snack is a special type of star fruit that only grows deep in the jungle. The Elves have brought you on their annual expedition to the grove where the fruit grows.\n",
    "\n",
    "To supply enough magical energy, the expedition needs to retrieve a minimum of fifty stars by December 25th. Although the Elves assure you that the grove has plenty of fruit, you decide to grab any fruit you see along the way, just in case.\n",
    "\n",
    "Collect stars by solving puzzles. Two puzzles will be made available on each day in the Advent calendar; the second puzzle is unlocked when you complete the first. Each puzzle grants one star. Good luck!\n",
    "\n",
    "The jungle must be too overgrown and difficult to navigate in vehicles or access from the air; the Elves' expedition traditionally goes on foot. As your boats approach land, the Elves begin taking inventory of their supplies. One important consideration is food - in particular, the number of Calories each Elf is carrying (your puzzle input).\n",
    "\n",
    "The Elves take turns writing down the number of Calories contained by the various meals, snacks, rations, etc. that they've brought with them, one item per line. Each Elf separates their own inventory from the previous Elf's inventory (if any) by a blank line.\n",
    "\n",
    "In case the Elves get hungry and need extra snacks, they need to know which Elf to ask: they'd like to know how many Calories are being carried by the Elf carrying the most Calories. In the example above, this is 24000 (carried by the fourth Elf).\n",
    "\n",
    "Find the Elf carrying the most Calories. How many total Calories is that Elf carrying?"
   ]
  },
  {
   "cell_type": "code",
   "execution_count": 1,
   "id": "fe50ebd2-bd8d-43e3-8aa2-75e6c082d768",
   "metadata": {},
   "outputs": [],
   "source": [
    "import pandas as pd"
   ]
  },
  {
   "cell_type": "code",
   "execution_count": 1,
   "id": "edd99160-8cc6-425b-b525-2ff043ecddfe",
   "metadata": {},
   "outputs": [
    {
     "name": "stdout",
     "output_type": "stream",
     "text": [
      "['6110', '2550', '6915', '5699', '4954', '5093', '3141', '5939', '4177', '3544', '5438', '5391', '3019', '', '4691', '6961', '7515', '4545', '11145']\n"
     ]
    }
   ],
   "source": [
    "with open('data/aoc_2022_day1.txt') as f:\n",
    "    lines = [line.replace('\\n', '') for line in f]\n",
    "    \n",
    "print(lines[:19])"
   ]
  },
  {
   "cell_type": "code",
   "execution_count": 3,
   "id": "b69646cb-8096-43d0-977a-b715d16eafe8",
   "metadata": {},
   "outputs": [],
   "source": [
    "def parse_elf_data(lines):\n",
    "    # store elf data: elf number as key, values are list of items\n",
    "    elf_food_dict = {}\n",
    "    total_calories = {}\n",
    "    _elf = 1\n",
    "    _elf_list = []\n",
    "    \n",
    "    for line, item in enumerate(lines):\n",
    "\n",
    "        if item == '' or line == len(lines):\n",
    "            elf_food_dict[_elf] = _elf_list\n",
    "            total_calories[_elf] = sum([int(food) for food in _elf_list])\n",
    "            _elf_list = []\n",
    "            _elf += 1\n",
    "        else:\n",
    "            _elf_list.append(item)\n",
    "          \n",
    "        \n",
    "    return elf_food_dict, total_calories"
   ]
  },
  {
   "cell_type": "code",
   "execution_count": 4,
   "id": "62f0f11f-815f-4a8f-9f80-c75d958ae2a6",
   "metadata": {},
   "outputs": [],
   "source": [
    "elf_food_dict, total_calories = parse_elf_data(lines)"
   ]
  },
  {
   "cell_type": "code",
   "execution_count": 5,
   "id": "8460e771-228d-48a6-b82d-e487582450b3",
   "metadata": {},
   "outputs": [
    {
     "data": {
      "text/plain": [
       "['Max calories 69501 is held by elf 197']"
      ]
     },
     "execution_count": 5,
     "metadata": {},
     "output_type": "execute_result"
    }
   ],
   "source": [
    "[f'Max calories {values} is held by elf {key}' \n",
    " for key, values in total_calories.items() \n",
    " if values == max(total_calories.values())]\n",
    "        "
   ]
  },
  {
   "cell_type": "markdown",
   "id": "8d858a41-3fc8-41a8-ade3-02c1b84bc033",
   "metadata": {},
   "source": [
    "Alternatively, with Pandas."
   ]
  },
  {
   "cell_type": "code",
   "execution_count": 6,
   "id": "2c4b1ba8-0fa7-431e-957d-9cd8aa10f333",
   "metadata": {},
   "outputs": [
    {
     "data": {
      "text/plain": [
       "197    69501\n",
       "Name: calories, dtype: int64"
      ]
     },
     "execution_count": 6,
     "metadata": {},
     "output_type": "execute_result"
    }
   ],
   "source": [
    "df = pd.DataFrame.from_dict(total_calories, orient='index')\n",
    "df.rename(columns={0:'calories'}, inplace=True)\n",
    "df.calories.nlargest(1)"
   ]
  },
  {
   "cell_type": "markdown",
   "id": "823fcfcf-4415-4e22-97a0-8be933e6ba39",
   "metadata": {},
   "source": [
    "## Problem 2\n",
    "\n",
    "By the time you calculate the answer to the Elves' question, they've already realized that the Elf carrying the most Calories of food might eventually run out of snacks.\n",
    "\n",
    "To avoid this unacceptable situation, the Elves would instead like to know the total Calories carried by the top three Elves carrying the most Calories. That way, even if one of those Elves runs out of snacks, they still have two backups.\n",
    "\n",
    "In the example above, the top three Elves are the fourth Elf (with 24000 Calories), then the third Elf (with 11000 Calories), then the fifth Elf (with 10000 Calories). The sum of the Calories carried by these three elves is 45000.\n",
    "\n",
    "Find the top three Elves carrying the most Calories. How many Calories are those Elves carrying in total?"
   ]
  },
  {
   "cell_type": "code",
   "execution_count": 7,
   "id": "ea56fc83-0ef1-40e7-86f7-cbd233e9b9cc",
   "metadata": {},
   "outputs": [
    {
     "data": {
      "text/plain": [
       "'The elves with the the highest caloric snacks are: [197, 27, 18]'"
      ]
     },
     "execution_count": 7,
     "metadata": {},
     "output_type": "execute_result"
    }
   ],
   "source": [
    "sorted_calories = {k: v for k, v in sorted(total_calories.items(), key=lambda item: item[1], reverse=True)}\n",
    "top3_elves = list(sorted_calories.keys())[:3]\n",
    "f'The elves with the the highest caloric snacks are: {top3_elves}'"
   ]
  },
  {
   "cell_type": "code",
   "execution_count": 8,
   "id": "76de8a02-d810-4697-beb0-5fd0a588b232",
   "metadata": {},
   "outputs": [
    {
     "data": {
      "text/plain": [
       "'The amount of calories they are carrying are: [69501, 66606, 66239]'"
      ]
     },
     "execution_count": 8,
     "metadata": {},
     "output_type": "execute_result"
    }
   ],
   "source": [
    "f'The amount of calories they are carrying are: {[sorted_calories[i] for i in top3_elves[:3]]}'"
   ]
  },
  {
   "cell_type": "code",
   "execution_count": 9,
   "id": "d06d31d4-7660-4df2-b5f4-1274ff7c5a46",
   "metadata": {},
   "outputs": [
    {
     "data": {
      "text/plain": [
       "'For a total of 202346 calories'"
      ]
     },
     "execution_count": 9,
     "metadata": {},
     "output_type": "execute_result"
    }
   ],
   "source": [
    "f'For a total of {sum([sorted_calories[i] for i in top3_elves[:3]])} calories'"
   ]
  },
  {
   "cell_type": "markdown",
   "id": "4bc03a7f-023e-4af5-9063-3bb363efa18e",
   "metadata": {},
   "source": [
    "Alternatively, with Pandas"
   ]
  },
  {
   "cell_type": "code",
   "execution_count": 10,
   "id": "3fb77e56-8a31-43b9-ab6f-575017750ff8",
   "metadata": {},
   "outputs": [
    {
     "data": {
      "text/html": [
       "<div>\n",
       "<style scoped>\n",
       "    .dataframe tbody tr th:only-of-type {\n",
       "        vertical-align: middle;\n",
       "    }\n",
       "\n",
       "    .dataframe tbody tr th {\n",
       "        vertical-align: top;\n",
       "    }\n",
       "\n",
       "    .dataframe thead th {\n",
       "        text-align: right;\n",
       "    }\n",
       "</style>\n",
       "<table border=\"1\" class=\"dataframe\">\n",
       "  <thead>\n",
       "    <tr style=\"text-align: right;\">\n",
       "      <th></th>\n",
       "      <th>calories</th>\n",
       "    </tr>\n",
       "  </thead>\n",
       "  <tbody>\n",
       "    <tr>\n",
       "      <th>197</th>\n",
       "      <td>69501</td>\n",
       "    </tr>\n",
       "    <tr>\n",
       "      <th>27</th>\n",
       "      <td>66606</td>\n",
       "    </tr>\n",
       "    <tr>\n",
       "      <th>18</th>\n",
       "      <td>66239</td>\n",
       "    </tr>\n",
       "  </tbody>\n",
       "</table>\n",
       "</div>"
      ],
      "text/plain": [
       "     calories\n",
       "197     69501\n",
       "27      66606\n",
       "18      66239"
      ]
     },
     "execution_count": 10,
     "metadata": {},
     "output_type": "execute_result"
    }
   ],
   "source": [
    "# Elves with top3 highest caloric sum\n",
    "\n",
    "df.loc[df.calories.nlargest(3).index]"
   ]
  },
  {
   "cell_type": "code",
   "execution_count": 11,
   "id": "928242ac-cc85-44dd-8169-f578320baf9b",
   "metadata": {},
   "outputs": [
    {
     "data": {
      "text/plain": [
       "calories    202346\n",
       "dtype: int64"
      ]
     },
     "execution_count": 11,
     "metadata": {},
     "output_type": "execute_result"
    }
   ],
   "source": [
    "# Sum of top3\n",
    "\n",
    "df.loc[df.calories.nlargest(3).index].sum()"
   ]
  },
  {
   "cell_type": "code",
   "execution_count": null,
   "id": "71c4f719-e576-4f7b-b10a-556956af84c8",
   "metadata": {},
   "outputs": [],
   "source": []
  }
 ],
 "metadata": {
  "kernelspec": {
   "display_name": "Python 3 (ipykernel)",
   "language": "python",
   "name": "python3"
  },
  "language_info": {
   "codemirror_mode": {
    "name": "ipython",
    "version": 3
   },
   "file_extension": ".py",
   "mimetype": "text/x-python",
   "name": "python",
   "nbconvert_exporter": "python",
   "pygments_lexer": "ipython3",
   "version": "3.9.12"
  }
 },
 "nbformat": 4,
 "nbformat_minor": 5
}
